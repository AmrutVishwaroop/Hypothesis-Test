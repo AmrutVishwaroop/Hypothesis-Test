{
 "cells": [
  {
   "cell_type": "markdown",
   "id": "5b445a53",
   "metadata": {},
   "source": [
    "# Hypothesis test assignment"
   ]
  },
  {
   "cell_type": "markdown",
   "id": "bfde1ac2",
   "metadata": {},
   "source": [
    "## 1. Cutlets"
   ]
  },
  {
   "cell_type": "markdown",
   "id": "3755f3fb",
   "metadata": {},
   "source": [
    "### Given\n",
    "alpha = 0.05\n",
    "\n",
    "### Assume\n",
    "\n",
    "Y = continuous\n",
    "\n",
    "X = Discrete\n",
    "\n",
    "Y1 and Y2 are two units\n",
    "\n",
    "H0 = Both Y1 and Y2 are normal\n",
    "\n",
    "H1 = Both are not normal"
   ]
  },
  {
   "cell_type": "markdown",
   "id": "6d7db2ce",
   "metadata": {},
   "source": [
    "### Normality test"
   ]
  },
  {
   "cell_type": "code",
   "execution_count": 3,
   "id": "699f61aa",
   "metadata": {},
   "outputs": [],
   "source": [
    "import numpy as np\n",
    "import pandas as pd\n",
    "from scipy import stats"
   ]
  },
  {
   "cell_type": "code",
   "execution_count": 5,
   "id": "18a9d527",
   "metadata": {},
   "outputs": [],
   "source": [
    "data1=pd.read_csv('Cutlets.csv')"
   ]
  },
  {
   "cell_type": "code",
   "execution_count": 7,
   "id": "b736136f",
   "metadata": {},
   "outputs": [
    {
     "data": {
      "text/html": [
       "<div>\n",
       "<style scoped>\n",
       "    .dataframe tbody tr th:only-of-type {\n",
       "        vertical-align: middle;\n",
       "    }\n",
       "\n",
       "    .dataframe tbody tr th {\n",
       "        vertical-align: top;\n",
       "    }\n",
       "\n",
       "    .dataframe thead th {\n",
       "        text-align: right;\n",
       "    }\n",
       "</style>\n",
       "<table border=\"1\" class=\"dataframe\">\n",
       "  <thead>\n",
       "    <tr style=\"text-align: right;\">\n",
       "      <th></th>\n",
       "      <th>Unit A</th>\n",
       "      <th>Unit B</th>\n",
       "    </tr>\n",
       "  </thead>\n",
       "  <tbody>\n",
       "    <tr>\n",
       "      <th>0</th>\n",
       "      <td>6.8090</td>\n",
       "      <td>6.7703</td>\n",
       "    </tr>\n",
       "    <tr>\n",
       "      <th>1</th>\n",
       "      <td>6.4376</td>\n",
       "      <td>7.5093</td>\n",
       "    </tr>\n",
       "    <tr>\n",
       "      <th>2</th>\n",
       "      <td>6.9157</td>\n",
       "      <td>6.7300</td>\n",
       "    </tr>\n",
       "    <tr>\n",
       "      <th>3</th>\n",
       "      <td>7.3012</td>\n",
       "      <td>6.7878</td>\n",
       "    </tr>\n",
       "    <tr>\n",
       "      <th>4</th>\n",
       "      <td>7.4488</td>\n",
       "      <td>7.1522</td>\n",
       "    </tr>\n",
       "  </tbody>\n",
       "</table>\n",
       "</div>"
      ],
      "text/plain": [
       "   Unit A  Unit B\n",
       "0  6.8090  6.7703\n",
       "1  6.4376  7.5093\n",
       "2  6.9157  6.7300\n",
       "3  7.3012  6.7878\n",
       "4  7.4488  7.1522"
      ]
     },
     "execution_count": 7,
     "metadata": {},
     "output_type": "execute_result"
    }
   ],
   "source": [
    "data1.head()"
   ]
  },
  {
   "cell_type": "code",
   "execution_count": 8,
   "id": "feaf50a2",
   "metadata": {},
   "outputs": [
    {
     "data": {
      "text/plain": [
       "ShapiroResult(statistic=0.9649458527565002, pvalue=0.3199819028377533)"
      ]
     },
     "execution_count": 8,
     "metadata": {},
     "output_type": "execute_result"
    }
   ],
   "source": [
    "stats.shapiro(data1[\"Unit A\"])"
   ]
  },
  {
   "cell_type": "code",
   "execution_count": 9,
   "id": "a0ac2e66",
   "metadata": {},
   "outputs": [
    {
     "data": {
      "text/plain": [
       "ShapiroResult(statistic=0.9727300405502319, pvalue=0.5224985480308533)"
      ]
     },
     "execution_count": 9,
     "metadata": {},
     "output_type": "execute_result"
    }
   ],
   "source": [
    "stats.shapiro(data1[\"Unit B\"])"
   ]
  },
  {
   "cell_type": "markdown",
   "id": "0540ef7c",
   "metadata": {},
   "source": [
    "#### As we can see pvalues for both the units are greater than Aplha. Hence we can accept Null Hypothesis (H0)"
   ]
  },
  {
   "cell_type": "code",
   "execution_count": null,
   "id": "5112cbd1",
   "metadata": {},
   "outputs": [],
   "source": []
  },
  {
   "cell_type": "markdown",
   "id": "5a5da5de",
   "metadata": {},
   "source": [
    "## 2. LabTAT"
   ]
  },
  {
   "cell_type": "markdown",
   "id": "6f51a471",
   "metadata": {},
   "source": [
    "### Given\n",
    "alpha = 0.05\n",
    "\n",
    "### Assume\n",
    "\n",
    "Y = continuous\n",
    "\n",
    "X = Discrete\n",
    "\n",
    "Y1, Y2, Y3 Y4 are four lab\n",
    "\n",
    "H0 = All are normal\n",
    "\n",
    "H1 = All are not normal"
   ]
  },
  {
   "cell_type": "markdown",
   "id": "7ee0ae05",
   "metadata": {},
   "source": [
    "### Normality test"
   ]
  },
  {
   "cell_type": "code",
   "execution_count": 14,
   "id": "56daaaca",
   "metadata": {},
   "outputs": [],
   "source": [
    "data2=pd.read_csv('LabTat.csv')"
   ]
  },
  {
   "cell_type": "code",
   "execution_count": 15,
   "id": "d2445c2f",
   "metadata": {},
   "outputs": [
    {
     "data": {
      "text/html": [
       "<div>\n",
       "<style scoped>\n",
       "    .dataframe tbody tr th:only-of-type {\n",
       "        vertical-align: middle;\n",
       "    }\n",
       "\n",
       "    .dataframe tbody tr th {\n",
       "        vertical-align: top;\n",
       "    }\n",
       "\n",
       "    .dataframe thead th {\n",
       "        text-align: right;\n",
       "    }\n",
       "</style>\n",
       "<table border=\"1\" class=\"dataframe\">\n",
       "  <thead>\n",
       "    <tr style=\"text-align: right;\">\n",
       "      <th></th>\n",
       "      <th>Laboratory 1</th>\n",
       "      <th>Laboratory 2</th>\n",
       "      <th>Laboratory 3</th>\n",
       "      <th>Laboratory 4</th>\n",
       "    </tr>\n",
       "  </thead>\n",
       "  <tbody>\n",
       "    <tr>\n",
       "      <th>0</th>\n",
       "      <td>185.35</td>\n",
       "      <td>165.53</td>\n",
       "      <td>176.70</td>\n",
       "      <td>166.13</td>\n",
       "    </tr>\n",
       "    <tr>\n",
       "      <th>1</th>\n",
       "      <td>170.49</td>\n",
       "      <td>185.91</td>\n",
       "      <td>198.45</td>\n",
       "      <td>160.79</td>\n",
       "    </tr>\n",
       "    <tr>\n",
       "      <th>2</th>\n",
       "      <td>192.77</td>\n",
       "      <td>194.92</td>\n",
       "      <td>201.23</td>\n",
       "      <td>185.18</td>\n",
       "    </tr>\n",
       "    <tr>\n",
       "      <th>3</th>\n",
       "      <td>177.33</td>\n",
       "      <td>183.00</td>\n",
       "      <td>199.61</td>\n",
       "      <td>176.42</td>\n",
       "    </tr>\n",
       "    <tr>\n",
       "      <th>4</th>\n",
       "      <td>193.41</td>\n",
       "      <td>169.57</td>\n",
       "      <td>204.63</td>\n",
       "      <td>152.60</td>\n",
       "    </tr>\n",
       "  </tbody>\n",
       "</table>\n",
       "</div>"
      ],
      "text/plain": [
       "   Laboratory 1  Laboratory 2  Laboratory 3  Laboratory 4\n",
       "0        185.35        165.53        176.70        166.13\n",
       "1        170.49        185.91        198.45        160.79\n",
       "2        192.77        194.92        201.23        185.18\n",
       "3        177.33        183.00        199.61        176.42\n",
       "4        193.41        169.57        204.63        152.60"
      ]
     },
     "execution_count": 15,
     "metadata": {},
     "output_type": "execute_result"
    }
   ],
   "source": [
    "data2.head()"
   ]
  },
  {
   "cell_type": "code",
   "execution_count": 16,
   "id": "4201b87f",
   "metadata": {},
   "outputs": [
    {
     "data": {
      "text/plain": [
       "ShapiroResult(statistic=0.9901824593544006, pvalue=0.5506953597068787)"
      ]
     },
     "execution_count": 16,
     "metadata": {},
     "output_type": "execute_result"
    }
   ],
   "source": [
    "stats.shapiro(data2[\"Laboratory 1\"])"
   ]
  },
  {
   "cell_type": "code",
   "execution_count": 17,
   "id": "fe41230b",
   "metadata": {},
   "outputs": [
    {
     "data": {
      "text/plain": [
       "ShapiroResult(statistic=0.9936322569847107, pvalue=0.8637524843215942)"
      ]
     },
     "execution_count": 17,
     "metadata": {},
     "output_type": "execute_result"
    }
   ],
   "source": [
    "stats.shapiro(data2[\"Laboratory 2\"])"
   ]
  },
  {
   "cell_type": "code",
   "execution_count": 18,
   "id": "8f7f87e5",
   "metadata": {},
   "outputs": [
    {
     "data": {
      "text/plain": [
       "ShapiroResult(statistic=0.9886345267295837, pvalue=0.4205053448677063)"
      ]
     },
     "execution_count": 18,
     "metadata": {},
     "output_type": "execute_result"
    }
   ],
   "source": [
    "stats.shapiro(data2[\"Laboratory 3\"])"
   ]
  },
  {
   "cell_type": "code",
   "execution_count": 19,
   "id": "bf3b405d",
   "metadata": {},
   "outputs": [
    {
     "data": {
      "text/plain": [
       "ShapiroResult(statistic=0.9913753271102905, pvalue=0.6618951559066772)"
      ]
     },
     "execution_count": 19,
     "metadata": {},
     "output_type": "execute_result"
    }
   ],
   "source": [
    "stats.shapiro(data2[\"Laboratory 4\"])"
   ]
  },
  {
   "cell_type": "markdown",
   "id": "2494f0a6",
   "metadata": {},
   "source": [
    "#### As we can see pvalues for all the 4 labrotary are greater than Aplha. Hence we can accept Null Hypothesis (H0)"
   ]
  },
  {
   "cell_type": "code",
   "execution_count": null,
   "id": "00ccf50e",
   "metadata": {},
   "outputs": [],
   "source": []
  },
  {
   "cell_type": "markdown",
   "id": "7804bad9",
   "metadata": {},
   "source": [
    "### Variance test"
   ]
  },
  {
   "cell_type": "markdown",
   "id": "8db7e98f",
   "metadata": {},
   "source": [
    "#### Assume\n",
    "\n",
    "H0 = All variance are same\n",
    "\n",
    "H1 = All are variance notsame"
   ]
  },
  {
   "cell_type": "code",
   "execution_count": 22,
   "id": "79a0a8b1",
   "metadata": {},
   "outputs": [
    {
     "data": {
      "text/plain": [
       "LeveneResult(statistic=2.599642500418024, pvalue=0.05161343808309816)"
      ]
     },
     "execution_count": 22,
     "metadata": {},
     "output_type": "execute_result"
    }
   ],
   "source": [
    "stats.levene(data2[\"Laboratory 1\"], data2[\"Laboratory 2\"], data2[\"Laboratory 3\"], data2[\"Laboratory 4\"])"
   ]
  },
  {
   "cell_type": "markdown",
   "id": "bf69eca7",
   "metadata": {},
   "source": [
    "#### As we can see pvalue is greater than Aplha. Hence we can accept Null Hypothesis (H0)"
   ]
  },
  {
   "cell_type": "code",
   "execution_count": null,
   "id": "872bc928",
   "metadata": {},
   "outputs": [],
   "source": []
  },
  {
   "cell_type": "markdown",
   "id": "d0640ce7",
   "metadata": {},
   "source": [
    "### Annova test"
   ]
  },
  {
   "cell_type": "markdown",
   "id": "4ab8c2b3",
   "metadata": {},
   "source": [
    "#### Assume\n",
    "\n",
    "H0 = Mean TAT for all labrotaries are equal\n",
    "\n",
    "H1 = Mean TAT for all labrotaries are not equal"
   ]
  },
  {
   "cell_type": "code",
   "execution_count": 24,
   "id": "1d214fca",
   "metadata": {},
   "outputs": [
    {
     "data": {
      "text/plain": [
       "F_onewayResult(statistic=118.70421654401437, pvalue=2.1156708949992414e-57)"
      ]
     },
     "execution_count": 24,
     "metadata": {},
     "output_type": "execute_result"
    }
   ],
   "source": [
    "stats.stats.f_oneway(data2[\"Laboratory 1\"], data2[\"Laboratory 2\"], data2[\"Laboratory 3\"], data2[\"Laboratory 4\"])"
   ]
  },
  {
   "cell_type": "markdown",
   "id": "d42e8488",
   "metadata": {},
   "source": [
    "#### As we can see pvalue is less than Aplha. Hence we can accept Alternative Hypothesis (H1)"
   ]
  },
  {
   "cell_type": "code",
   "execution_count": null,
   "id": "7ae4bbba",
   "metadata": {},
   "outputs": [],
   "source": []
  },
  {
   "cell_type": "markdown",
   "id": "e7c9b693",
   "metadata": {},
   "source": [
    "## 3. Buyer ratio"
   ]
  },
  {
   "cell_type": "markdown",
   "id": "32d780b7",
   "metadata": {},
   "source": [
    "As we can see there are two variables, we will be going with Chisquare test"
   ]
  },
  {
   "cell_type": "markdown",
   "id": "0c5381e7",
   "metadata": {},
   "source": [
    "\n",
    "\n",
    "#### Assume\n",
    "\n",
    "Since confidence is not given lets assume it to be 95%.Then Alpha = 0.05\n",
    "\n",
    "H0 = Both Male and Female buyer ratio is same \n",
    "\n",
    "H1 = Both Male and Female buyer ratio is not same \n"
   ]
  },
  {
   "cell_type": "code",
   "execution_count": 29,
   "id": "bb9b3199",
   "metadata": {},
   "outputs": [],
   "source": [
    "data3=pd.read_csv('BuyerRatio.csv')"
   ]
  },
  {
   "cell_type": "code",
   "execution_count": 31,
   "id": "2e6f29c8",
   "metadata": {},
   "outputs": [
    {
     "data": {
      "text/html": [
       "<div>\n",
       "<style scoped>\n",
       "    .dataframe tbody tr th:only-of-type {\n",
       "        vertical-align: middle;\n",
       "    }\n",
       "\n",
       "    .dataframe tbody tr th {\n",
       "        vertical-align: top;\n",
       "    }\n",
       "\n",
       "    .dataframe thead th {\n",
       "        text-align: right;\n",
       "    }\n",
       "</style>\n",
       "<table border=\"1\" class=\"dataframe\">\n",
       "  <thead>\n",
       "    <tr style=\"text-align: right;\">\n",
       "      <th></th>\n",
       "      <th>Observed Values</th>\n",
       "      <th>East</th>\n",
       "      <th>West</th>\n",
       "      <th>North</th>\n",
       "      <th>South</th>\n",
       "    </tr>\n",
       "  </thead>\n",
       "  <tbody>\n",
       "    <tr>\n",
       "      <th>0</th>\n",
       "      <td>Males</td>\n",
       "      <td>50</td>\n",
       "      <td>142</td>\n",
       "      <td>131</td>\n",
       "      <td>70</td>\n",
       "    </tr>\n",
       "    <tr>\n",
       "      <th>1</th>\n",
       "      <td>Females</td>\n",
       "      <td>435</td>\n",
       "      <td>1523</td>\n",
       "      <td>1356</td>\n",
       "      <td>750</td>\n",
       "    </tr>\n",
       "  </tbody>\n",
       "</table>\n",
       "</div>"
      ],
      "text/plain": [
       "  Observed Values  East  West  North  South\n",
       "0           Males    50   142    131     70\n",
       "1         Females   435  1523   1356    750"
      ]
     },
     "execution_count": 31,
     "metadata": {},
     "output_type": "execute_result"
    }
   ],
   "source": [
    "data3"
   ]
  },
  {
   "cell_type": "code",
   "execution_count": 33,
   "id": "847af509",
   "metadata": {},
   "outputs": [
    {
     "data": {
      "text/plain": [
       "(1.5959455386610577,\n",
       " 0.6603094907091882,\n",
       " 3,\n",
       " array([[  42.76531299,  442.23468701],\n",
       "        [ 146.81287862, 1518.18712138],\n",
       "        [ 131.11756787, 1355.88243213],\n",
       "        [  72.30424052,  747.69575948]]))"
      ]
     },
     "execution_count": 33,
     "metadata": {},
     "output_type": "execute_result"
    }
   ],
   "source": [
    "stats.chi2_contingency([data3[\"East\"], data3[\"West\"], data3[\"North\"], data3[\"South\"]])"
   ]
  },
  {
   "cell_type": "markdown",
   "id": "e5decefe",
   "metadata": {},
   "source": [
    "#### As we can see pvalue is greater than Aplha. Hence we can accept Null Hypothesis (H0)"
   ]
  },
  {
   "cell_type": "code",
   "execution_count": null,
   "id": "1e4faf7a",
   "metadata": {},
   "outputs": [],
   "source": []
  },
  {
   "cell_type": "markdown",
   "id": "594da322",
   "metadata": {},
   "source": [
    "## 4. Customer order form"
   ]
  },
  {
   "cell_type": "markdown",
   "id": "370bb281",
   "metadata": {},
   "source": [
    "As we can see there are more than two variables, we will be going with Chisquare test"
   ]
  },
  {
   "cell_type": "markdown",
   "id": "46ec7896",
   "metadata": {},
   "source": [
    "### Given\n",
    "alpha = 0.05\n",
    "\n",
    "### Assume\n",
    "\n",
    "H0 = Defective % doesnot varies by center\n",
    "\n",
    "H1 = Defective % varies by center"
   ]
  },
  {
   "cell_type": "code",
   "execution_count": 37,
   "id": "4206fe82",
   "metadata": {},
   "outputs": [],
   "source": [
    "data4=pd.read_csv('Costomer+OrderForm.csv')"
   ]
  },
  {
   "cell_type": "code",
   "execution_count": 38,
   "id": "ea291848",
   "metadata": {},
   "outputs": [
    {
     "data": {
      "text/html": [
       "<div>\n",
       "<style scoped>\n",
       "    .dataframe tbody tr th:only-of-type {\n",
       "        vertical-align: middle;\n",
       "    }\n",
       "\n",
       "    .dataframe tbody tr th {\n",
       "        vertical-align: top;\n",
       "    }\n",
       "\n",
       "    .dataframe thead th {\n",
       "        text-align: right;\n",
       "    }\n",
       "</style>\n",
       "<table border=\"1\" class=\"dataframe\">\n",
       "  <thead>\n",
       "    <tr style=\"text-align: right;\">\n",
       "      <th></th>\n",
       "      <th>Phillippines</th>\n",
       "      <th>Indonesia</th>\n",
       "      <th>Malta</th>\n",
       "      <th>India</th>\n",
       "    </tr>\n",
       "  </thead>\n",
       "  <tbody>\n",
       "    <tr>\n",
       "      <th>0</th>\n",
       "      <td>Error Free</td>\n",
       "      <td>Error Free</td>\n",
       "      <td>Defective</td>\n",
       "      <td>Error Free</td>\n",
       "    </tr>\n",
       "    <tr>\n",
       "      <th>1</th>\n",
       "      <td>Error Free</td>\n",
       "      <td>Error Free</td>\n",
       "      <td>Error Free</td>\n",
       "      <td>Defective</td>\n",
       "    </tr>\n",
       "    <tr>\n",
       "      <th>2</th>\n",
       "      <td>Error Free</td>\n",
       "      <td>Defective</td>\n",
       "      <td>Defective</td>\n",
       "      <td>Error Free</td>\n",
       "    </tr>\n",
       "    <tr>\n",
       "      <th>3</th>\n",
       "      <td>Error Free</td>\n",
       "      <td>Error Free</td>\n",
       "      <td>Error Free</td>\n",
       "      <td>Error Free</td>\n",
       "    </tr>\n",
       "    <tr>\n",
       "      <th>4</th>\n",
       "      <td>Error Free</td>\n",
       "      <td>Error Free</td>\n",
       "      <td>Defective</td>\n",
       "      <td>Error Free</td>\n",
       "    </tr>\n",
       "  </tbody>\n",
       "</table>\n",
       "</div>"
      ],
      "text/plain": [
       "  Phillippines   Indonesia       Malta       India\n",
       "0   Error Free  Error Free   Defective  Error Free\n",
       "1   Error Free  Error Free  Error Free   Defective\n",
       "2   Error Free   Defective   Defective  Error Free\n",
       "3   Error Free  Error Free  Error Free  Error Free\n",
       "4   Error Free  Error Free   Defective  Error Free"
      ]
     },
     "execution_count": 38,
     "metadata": {},
     "output_type": "execute_result"
    }
   ],
   "source": [
    "data4.head()"
   ]
  },
  {
   "cell_type": "code",
   "execution_count": 39,
   "id": "1672b952",
   "metadata": {},
   "outputs": [
    {
     "data": {
      "text/plain": [
       "(3.8589606858203545,\n",
       " 0.2771020991233144,\n",
       " 3,\n",
       " array([[271.75,  28.25],\n",
       "        [271.75,  28.25],\n",
       "        [271.75,  28.25],\n",
       "        [271.75,  28.25]]))"
      ]
     },
     "execution_count": 39,
     "metadata": {},
     "output_type": "execute_result"
    }
   ],
   "source": [
    "stats.chi2_contingency([data4['Phillippines'].value_counts(), data4['Indonesia'].value_counts(), data4['Malta'].value_counts(), data4['India'].value_counts()])"
   ]
  },
  {
   "cell_type": "markdown",
   "id": "bbdb2c4d",
   "metadata": {},
   "source": [
    "#### As we can see pvalue is greater than Aplha. Hence we can accept Null Hypothesis (H0)"
   ]
  }
 ],
 "metadata": {
  "kernelspec": {
   "display_name": "Python 3 (ipykernel)",
   "language": "python",
   "name": "python3"
  },
  "language_info": {
   "codemirror_mode": {
    "name": "ipython",
    "version": 3
   },
   "file_extension": ".py",
   "mimetype": "text/x-python",
   "name": "python",
   "nbconvert_exporter": "python",
   "pygments_lexer": "ipython3",
   "version": "3.9.7"
  }
 },
 "nbformat": 4,
 "nbformat_minor": 5
}
